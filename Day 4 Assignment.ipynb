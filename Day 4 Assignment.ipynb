{
 "cells": [
  {
   "cell_type": "code",
   "execution_count": 15,
   "metadata": {},
   "outputs": [],
   "source": [
    "def collect_values():\n",
    "    list1 = []\n",
    "    i=1\n",
    "    while (i < 8):\n",
    "        num = int(input(\"Enter Element \"))\n",
    "        list1.append(num)\n",
    "        i += 1\n",
    "    return list1    "
   ]
  },
  {
   "cell_type": "code",
   "execution_count": 11,
   "metadata": {},
   "outputs": [
    {
     "name": "stdout",
     "output_type": "stream",
     "text": [
      "Enter Element 2\n",
      "Enter Element 3\n",
      "Enter Element 1\n",
      "Enter Element 1\n",
      "Enter Element 5\n",
      "Enter Element 7\n",
      "Enter Element 8\n"
     ]
    }
   ],
   "source": [
    "collect_values()"
   ]
  },
  {
   "cell_type": "code",
   "execution_count": 27,
   "metadata": {},
   "outputs": [],
   "source": [
    "def check_match(lst):\n",
    "    find_string = [1,1,5]\n",
    "    for i in range(0,8):\n",
    "        if(lst[i] == find_string[0]):\n",
    "            find_string.pop(0)\n",
    "        if(len(find_string) == 0):\n",
    "            break\n",
    "    if(len(find_string) == 0 ):\n",
    "        return \"its a match\"\n",
    "    else:\n",
    "        return \"its gone\""
   ]
  },
  {
   "cell_type": "code",
   "execution_count": 29,
   "metadata": {},
   "outputs": [
    {
     "name": "stdout",
     "output_type": "stream",
     "text": [
      "Enter Element 2\n",
      "Enter Element 3\n",
      "Enter Element 4\n",
      "Enter Element 1\n",
      "Enter Element 1\n",
      "Enter Element 5\n",
      "Enter Element 6\n",
      " \n",
      " \n",
      " \n",
      "its a match\n"
     ]
    }
   ],
   "source": [
    "input_list = collect_values()\n",
    "print(\" \")\n",
    "print(\" \")\n",
    "print(\" \")\n",
    "answer = check_match(input_list)\n",
    "print(answer)"
   ]
  },
  {
   "cell_type": "code",
   "execution_count": 16,
   "metadata": {},
   "outputs": [
    {
     "name": "stdout",
     "output_type": "stream",
     "text": [
      "1\n"
     ]
    }
   ],
   "source": [
    "find_string = [1,1,5]\n",
    "print(find_string[0])"
   ]
  },
  {
   "cell_type": "code",
   "execution_count": null,
   "metadata": {},
   "outputs": [],
   "source": []
  },
  {
   "cell_type": "code",
   "execution_count": null,
   "metadata": {},
   "outputs": [],
   "source": []
  }
 ],
 "metadata": {
  "kernelspec": {
   "display_name": "Python 3",
   "language": "python",
   "name": "python3"
  },
  "language_info": {
   "codemirror_mode": {
    "name": "ipython",
    "version": 3
   },
   "file_extension": ".py",
   "mimetype": "text/x-python",
   "name": "python",
   "nbconvert_exporter": "python",
   "pygments_lexer": "ipython3",
   "version": "3.7.3"
  }
 },
 "nbformat": 4,
 "nbformat_minor": 2
}
