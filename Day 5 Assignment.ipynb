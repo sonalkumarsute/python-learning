{
 "cells": [
  {
   "cell_type": "code",
   "execution_count": 44,
   "metadata": {},
   "outputs": [],
   "source": [
    "#1st Program  ####################"
   ]
  },
  {
   "cell_type": "code",
   "execution_count": 120,
   "metadata": {},
   "outputs": [],
   "source": [
    "def ask_number():\n",
    "    i = int(input(\"Enter Element \"))\n",
    "    return i "
   ]
  },
  {
   "cell_type": "code",
   "execution_count": 121,
   "metadata": {},
   "outputs": [],
   "source": [
    "def create_dic(num):\n",
    "    dictn = {}\n",
    "    for i in range(1,num+1):\n",
    "        dictn[i] = (i * i)\n",
    "        #print(i)\n",
    "    return dictn    \n",
    "#num = ask_number()\n",
    "#def create_dict():\n",
    "    "
   ]
  },
  {
   "cell_type": "code",
   "execution_count": 123,
   "metadata": {},
   "outputs": [
    {
     "name": "stdout",
     "output_type": "stream",
     "text": [
      "Enter Element 4\n",
      "{1: 1, 2: 4, 3: 9, 4: 16}\n"
     ]
    }
   ],
   "source": [
    "num = ask_number()\n",
    "dictn = create_dic(num)\n",
    "print(dictn)"
   ]
  },
  {
   "cell_type": "code",
   "execution_count": null,
   "metadata": {},
   "outputs": [],
   "source": [
    "###2nd Program ###################\n"
   ]
  },
  {
   "cell_type": "code",
   "execution_count": 127,
   "metadata": {},
   "outputs": [],
   "source": [
    "def print_list():\n",
    "    list_1=[]\n",
    "    for i in range(1,51):\n",
    "        list_1.append(i)     \n",
    "    return list_1    "
   ]
  },
  {
   "cell_type": "code",
   "execution_count": 128,
   "metadata": {},
   "outputs": [
    {
     "name": "stdout",
     "output_type": "stream",
     "text": [
      "Enter First Element 2\n",
      "Enter Second Element 6\n",
      "3\n",
      "4\n",
      "5\n",
      "6\n"
     ]
    }
   ],
   "source": [
    "y = int(input(\"Enter First Element \"))\n",
    "z = int(input(\"Enter Second Element \"))\n",
    "list_1 = print_list()\n",
    "l = []\n",
    "for x in list_1:\n",
    "    if x > y and x <= z:\n",
    "        print(x)"
   ]
  },
  {
   "cell_type": "code",
   "execution_count": null,
   "metadata": {},
   "outputs": [],
   "source": []
  },
  {
   "cell_type": "code",
   "execution_count": null,
   "metadata": {},
   "outputs": [],
   "source": []
  }
 ],
 "metadata": {
  "kernelspec": {
   "display_name": "Python 3",
   "language": "python",
   "name": "python3"
  }
 },
 "nbformat": 4,
 "nbformat_minor": 2
}
