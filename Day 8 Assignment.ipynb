{
 "cells": [
  {
   "cell_type": "code",
   "execution_count": 27,
   "metadata": {},
   "outputs": [
    {
     "name": "stdout",
     "output_type": "stream",
     "text": [
      "\n",
      "Please enter binary number: 3404004\n",
      "Please make sure your number contains digits 0-1 only.\n",
      "\n",
      "Please enter binary number: 10001\n",
      "NO\n"
     ]
    }
   ],
   "source": [
    "while True:\n",
    "    try:\n",
    "        s = int(input('\\nPlease enter binary number: '), 2)\n",
    "    except ValueError:\n",
    "        print('Please make sure your number contains digits 0-1 only.')\n",
    "    else:    \n",
    "        zeros = 0\n",
    "        ones = 0\n",
    "        for i in str(s):\n",
    "            if int(i) == 0:\n",
    "                zeros = zeros + 1\n",
    "            else:\n",
    "                ones = ones + 1\n",
    "        if zeros == 1 or ones == 1:\n",
    "            print(\"YES\")\n",
    "        else:    \n",
    "            print(\"NO\")\n",
    "        break"
   ]
  },
  {
   "cell_type": "code",
   "execution_count": null,
   "metadata": {},
   "outputs": [],
   "source": []
  },
  {
   "cell_type": "code",
   "execution_count": null,
   "metadata": {},
   "outputs": [],
   "source": []
  }
 ],
 "metadata": {
  "kernelspec": {
   "display_name": "Python 3",
   "language": "python",
   "name": "python3"
  },
  "language_info": {
   "codemirror_mode": {
    "name": "ipython",
    "version": 3
   },
   "file_extension": ".py",
   "mimetype": "text/x-python",
   "name": "python",
   "nbconvert_exporter": "python",
   "pygments_lexer": "ipython3",
   "version": "3.7.3"
  }
 },
 "nbformat": 4,
 "nbformat_minor": 2
}
