{
 "cells": [
  {
   "cell_type": "code",
   "execution_count": null,
   "metadata": {},
   "outputs": [],
   "source": [
    "#Question 1"
   ]
  },
  {
   "cell_type": "code",
   "execution_count": 18,
   "metadata": {},
   "outputs": [
    {
     "name": "stdout",
     "output_type": "stream",
     "text": [
      "Enter Element aejdhdjsnc\n",
      "3\n"
     ]
    }
   ],
   "source": [
    "hollow_elements = [\"A\",\"B\",\"D\",\"O\",\"P\",\"Q\",\"R\"]\n",
    "x = input(\"Enter Element \").upper()\n",
    "he = []\n",
    "for i in x:\n",
    "    if (i in hollow_elements): \n",
    "        he.append(i) \n",
    "print(len(he))    "
   ]
  },
  {
   "cell_type": "code",
   "execution_count": null,
   "metadata": {},
   "outputs": [],
   "source": [
    "#Question 2"
   ]
  },
  {
   "cell_type": "code",
   "execution_count": 26,
   "metadata": {},
   "outputs": [
    {
     "name": "stdout",
     "output_type": "stream",
     "text": [
      "[4, 25, 64]\n"
     ]
    }
   ],
   "source": [
    "def multi(x):\n",
    "    return (x*x)\n",
    "\n",
    "z = map(multi ,[2,5,8])\n",
    "print(list(z))"
   ]
  },
  {
   "cell_type": "code",
   "execution_count": 28,
   "metadata": {},
   "outputs": [
    {
     "name": "stdout",
     "output_type": "stream",
     "text": [
      "[2, 15, 32]\n"
     ]
    }
   ],
   "source": [
    "def multi(a,b):\n",
    "    return (a*b)\n",
    "z = map(multi ,[2,5,8],[1,3,4])\n",
    "print(list(z))"
   ]
  },
  {
   "cell_type": "code",
   "execution_count": 29,
   "metadata": {},
   "outputs": [
    {
     "name": "stdout",
     "output_type": "stream",
     "text": [
      "[3, 8, 12]\n"
     ]
    }
   ],
   "source": [
    "def addi(a,b):\n",
    "    return (a+b)\n",
    "z = map(addi ,[2,5,8],[1,3,4])\n",
    "print(list(z))"
   ]
  },
  {
   "cell_type": "code",
   "execution_count": 30,
   "metadata": {},
   "outputs": [
    {
     "name": "stdout",
     "output_type": "stream",
     "text": [
      "[1, 2, 4]\n"
     ]
    }
   ],
   "source": [
    "def sub(a,b):\n",
    "    return (a-b)\n",
    "z = map(sub ,[2,5,8],[1,3,4])\n",
    "print(list(z))"
   ]
  },
  {
   "cell_type": "code",
   "execution_count": 33,
   "metadata": {},
   "outputs": [
    {
     "name": "stdout",
     "output_type": "stream",
     "text": [
      "(2, -2, -1)\n"
     ]
    }
   ],
   "source": [
    "def sub(a,b):\n",
    "    return (a-b)\n",
    "z = map(sub ,(2,5,8),(0,7,9))\n",
    "print(tuple(z))"
   ]
  },
  {
   "cell_type": "code",
   "execution_count": null,
   "metadata": {},
   "outputs": [],
   "source": [
    "#lambda functions"
   ]
  },
  {
   "cell_type": "code",
   "execution_count": 34,
   "metadata": {},
   "outputs": [
    {
     "data": {
      "text/plain": [
       "6"
      ]
     },
     "execution_count": 34,
     "metadata": {},
     "output_type": "execute_result"
    }
   ],
   "source": [
    "z = lambda x: (x+x)\n",
    "z(3)"
   ]
  },
  {
   "cell_type": "code",
   "execution_count": 37,
   "metadata": {},
   "outputs": [
    {
     "data": {
      "text/plain": [
       "27"
      ]
     },
     "execution_count": 37,
     "metadata": {},
     "output_type": "execute_result"
    }
   ],
   "source": [
    "b = lambda x: (x**x)\n",
    "b(3)"
   ]
  },
  {
   "cell_type": "code",
   "execution_count": 43,
   "metadata": {},
   "outputs": [
    {
     "name": "stdout",
     "output_type": "stream",
     "text": [
      "<function calc.<locals>.<lambda> at 0x7f8588550d90>\n",
      "7\n"
     ]
    }
   ],
   "source": [
    "def calc(a):\n",
    "    return lambda b: (a+b)\n",
    "so = calc(3)\n",
    "print(so)\n",
    "print(so(4))"
   ]
  },
  {
   "cell_type": "code",
   "execution_count": 44,
   "metadata": {},
   "outputs": [
    {
     "name": "stdout",
     "output_type": "stream",
     "text": [
      "<function calc.<locals>.<lambda> at 0x7f85885507b8>\n",
      "81\n"
     ]
    }
   ],
   "source": [
    "def calc(a):\n",
    "    return lambda b: a**b\n",
    "so = calc(3)\n",
    "print(so)\n",
    "print(so(4))"
   ]
  },
  {
   "cell_type": "code",
   "execution_count": 46,
   "metadata": {},
   "outputs": [
    {
     "name": "stdout",
     "output_type": "stream",
     "text": [
      "<function calc.<locals>.<lambda> at 0x7f85885506a8>\n",
      "12\n"
     ]
    }
   ],
   "source": [
    "def calc(a):\n",
    "    return lambda b: a*b\n",
    "so = calc(3)\n",
    "print(so)\n",
    "print(so(4))"
   ]
  },
  {
   "cell_type": "code",
   "execution_count": null,
   "metadata": {},
   "outputs": [],
   "source": []
  }
 ],
 "metadata": {
  "kernelspec": {
   "display_name": "Python 3",
   "language": "python",
   "name": "python3"
  },
  "language_info": {
   "codemirror_mode": {
    "name": "ipython",
    "version": 3
   },
   "file_extension": ".py",
   "mimetype": "text/x-python",
   "name": "python",
   "nbconvert_exporter": "python",
   "pygments_lexer": "ipython3",
   "version": "3.7.3"
  }
 },
 "nbformat": 4,
 "nbformat_minor": 2
}
